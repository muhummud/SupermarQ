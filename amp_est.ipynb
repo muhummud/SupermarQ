{
 "cells": [
  {
   "cell_type": "code",
   "execution_count": 22,
   "id": "8e9433a1-14e6-404c-9d79-414222d231be",
   "metadata": {},
   "outputs": [],
   "source": [
    "\"\"\"\n",
    "Amplitude Estimation Benchmark Program via Phase Estimation - Qiskit\n",
    "\"\"\"\n",
    "\n",
    "import copy\n",
    "import sys\n",
    "import time\n",
    "import import_ipynb\n",
    "\n",
    "import qiskit_superstaq\n",
    "import supermarq\n",
    "import numpy as np\n",
    "from qiskit import QuantumCircuit, QuantumRegister, ClassicalRegister, transpile\n",
    "from qiskit.providers.fake_provider import GenericBackendV2, Fake5QV1, Fake20QV1, Fake27QPulseV1\n",
    "from qiskit.visualization import plot_histogram, plot_circuit_layout\n",
    "from qiskit_aer.noise import (\n",
    "    NoiseModel,\n",
    "    QuantumError,\n",
    "    ReadoutError,\n",
    "    depolarizing_error,\n",
    "    pauli_error,\n",
    "    thermal_relaxation_error,\n",
    ")\n",
    "from qiskit_aer import AerSimulator\n",
    "\n",
    "#sys.path[1:1] = [\"_common\", \"_common/qiskit\", \"quantum-fourier-transform/qiskit\"]\n",
    "#sys.path[1:1] = [\"../../_common\", \"../../_common/qiskit\", \"../../quantum-fourier-transform/qiskit\"]\n",
    "#import execute as ex\n",
    "#import metrics as metrics\n",
    "from qft import inv_qft_gate\n"
   ]
  },
  {
   "cell_type": "code",
   "execution_count": 23,
   "id": "86fec7f3-2ab8-46c3-b243-b3feb14394c1",
   "metadata": {},
   "outputs": [],
   "source": [
    "np.random.seed(0)\n",
    "\n",
    "verbose = False\n",
    "\n",
    "# saved subcircuits circuits for printing\n",
    "A_ = None\n",
    "Q_ = None\n",
    "cQ_ = None\n",
    "QC_ = None\n",
    "QFTI_ = None"
   ]
  },
  {
   "cell_type": "code",
   "execution_count": 24,
   "id": "0edcce32-d645-43e2-8f9d-4b1f245ed8f7",
   "metadata": {},
   "outputs": [],
   "source": [
    "############### Circuit Definition\n",
    "\n",
    "def AmplitudeEstimation(num_state_qubits, num_counting_qubits, a, psi_zero=None, psi_one=None):\n",
    "    qr_state = QuantumRegister(num_state_qubits+1)\n",
    "    qr_counting = QuantumRegister(num_counting_qubits)\n",
    "    cr = ClassicalRegister(num_counting_qubits)\n",
    "    qc = QuantumCircuit(qr_counting, qr_state, cr)\n",
    "\n",
    "    num_qubits = num_state_qubits + 1 + num_counting_qubits\n",
    "\n",
    "    # create the Amplitude Generator circuit\n",
    "    A = A_gen(num_state_qubits, a, psi_zero, psi_one)\n",
    "\n",
    "    # create the Quantum Operator circuit and a controlled version of it\n",
    "    cQ, Q = Ctrl_Q(num_state_qubits, A)\n",
    "\n",
    "    # save small example subcircuits for visualization\n",
    "    global A_, Q_, cQ_, QFTI_\n",
    "    if (cQ_ and Q_) == None or num_state_qubits <= 6:\n",
    "        if num_state_qubits < 9: cQ_ = cQ; Q_ = Q; A_ = A\n",
    "    if QFTI_ == None or num_qubits <= 5:\n",
    "        if num_qubits < 9: QFTI_ = inv_qft_gate(num_counting_qubits)\n",
    "\n",
    "    # Prepare state from A, and counting qubits with H transform\n",
    "    qc.append(A, [qr_state[i] for i in range(num_state_qubits+1)])\n",
    "    for i in range(num_counting_qubits):\n",
    "        qc.h(qr_counting[i])\n",
    "\n",
    "    repeat = 1\n",
    "    for j in reversed(range(num_counting_qubits)):\n",
    "        for _ in range(repeat):\n",
    "            qc.append(cQ, [qr_counting[j]] + [qr_state[l] for l in range(num_state_qubits+1)])\n",
    "        repeat *= 2\n",
    "\n",
    "    qc.barrier()\n",
    "\n",
    "    # inverse quantum Fourier transform only on counting qubits\n",
    "    qc.append(inv_qft_gate(num_counting_qubits), qr_counting)\n",
    "\n",
    "    qc.barrier()\n",
    "\n",
    "    # measure counting qubits\n",
    "    qc.measure([qr_counting[m] for m in range(num_counting_qubits)], list(range(num_counting_qubits)))\n",
    "\n",
    "    # save smaller circuit example for display\n",
    "    global QC_\n",
    "    if QC_ == None or num_qubits <= 5:\n",
    "        if num_qubits < 9: QC_ = qc\n",
    "    return qc"
   ]
  },
  {
   "cell_type": "code",
   "execution_count": 25,
   "id": "f2a87fde-3006-4e0d-8083-14186c809c0e",
   "metadata": {},
   "outputs": [],
   "source": [
    "# Construct A operator that takes |0>_{n+1} to sqrt(1-a) |psi_0>|0> + sqrt(a) |psi_1>|1>\n",
    "def A_gen(num_state_qubits, a, psi_zero=None, psi_one=None):\n",
    "\n",
    "    if psi_zero==None:\n",
    "        psi_zero = '0'*num_state_qubits\n",
    "    if psi_one==None:\n",
    "        psi_one = '1'*num_state_qubits\n",
    "\n",
    "    theta = 2 * np.arcsin(np.sqrt(a))\n",
    "    # Let the objective be qubit index n; state is on qubits 0 through n-1\n",
    "    qc_A = QuantumCircuit(num_state_qubits+1, name=f\"A\")\n",
    "\n",
    "    # takes state to |0>_{n} (sqrt(1-a) |0> + sqrt(a) |1>)\n",
    "    qc_A.ry(theta, num_state_qubits)\n",
    "\n",
    "    # takes state to sqrt(1-a) |psi_0>|0> + sqrt(a) |0>_{n}|1>\n",
    "    qc_A.x(num_state_qubits)\n",
    "    for i in range(num_state_qubits):\n",
    "        if psi_zero[i]=='1':\n",
    "            qc_A.cx(num_state_qubits,i)\n",
    "    qc_A.x(num_state_qubits)\n",
    "\n",
    "    # takes state to sqrt(1-a) |psi_0>|0> + sqrt(a) |psi_1>|1>\n",
    "    for i in range(num_state_qubits):\n",
    "        if psi_one[i]=='1':\n",
    "            qc_A.cx(num_state_qubits,i)\n",
    "\n",
    "    return qc_A"
   ]
  },
  {
   "cell_type": "code",
   "execution_count": 26,
   "id": "c6ea892b-5409-4179-b6e9-57435940b3ea",
   "metadata": {},
   "outputs": [],
   "source": [
    "# Construct the grover-like operator and a controlled version of it\n",
    "def Ctrl_Q(num_state_qubits, A_circ):\n",
    "\n",
    "    # index n is the objective qubit, and indexes 0 through n-1 are state qubits\n",
    "    qc = QuantumCircuit(num_state_qubits+1, name=f\"Q\")\n",
    "\n",
    "    temp_A = copy.copy(A_circ)\n",
    "    A_gate = temp_A.to_gate()\n",
    "    A_gate_inv = temp_A.inverse().to_gate()\n",
    "\n",
    "    ### Each cycle in Q applies in order: -S_chi, A_circ_inverse, S_0, A_circ\n",
    "    # -S_chi\n",
    "    qc.x(num_state_qubits)\n",
    "    qc.z(num_state_qubits)\n",
    "    qc.x(num_state_qubits)\n",
    "\n",
    "    # A_circ_inverse\n",
    "    qc.append(A_gate_inv, [i for i in range(num_state_qubits+1)])\n",
    "\n",
    "    # S_0\n",
    "    for i in range(num_state_qubits+1):\n",
    "        qc.x(i)\n",
    "    qc.h(num_state_qubits)\n",
    "\n",
    "    qc.mcx([x for x in range(num_state_qubits)], num_state_qubits)\n",
    "\n",
    "    qc.h(num_state_qubits)\n",
    "    for i in range(num_state_qubits+1):\n",
    "        qc.x(i)\n",
    "\n",
    "    # A_circ\n",
    "    qc.append(A_gate, [i for i in range(num_state_qubits+1)])\n",
    "\n",
    "    # Create a gate out of the Q operator\n",
    "    qc.to_gate(label='Q')\n",
    "\n",
    "    # and also a controlled version of it\n",
    "    Ctrl_Q_ = qc.control(1)\n",
    "\n",
    "    # and return both\n",
    "    return Ctrl_Q_, qc"
   ]
  },
  {
   "cell_type": "code",
   "execution_count": 27,
   "id": "b00dc058-f2f9-4b6b-993e-f98096a9b6dc",
   "metadata": {},
   "outputs": [],
   "source": [
    "# Analyze and print measured results\n",
    "# Expected result is always the secret_int (which encodes alpha), so fidelity calc is simple\n",
    "def analyze_and_print_result(qc, result, num_counting_qubits, s_int, num_shots):\n",
    "\n",
    "    # get results as measured counts\n",
    "    counts = result.get_counts(qc)\n",
    "\n",
    "    # calculate expected output histogram\n",
    "    a = a_from_s_int(s_int, num_counting_qubits)\n",
    "    correct_dist = a_to_bitstring(a, num_counting_qubits)\n",
    "\n",
    "    # generate thermal_dist for polarization calculation\n",
    "    thermal_dist = metrics.uniform_dist(num_counting_qubits)\n",
    "\n",
    "    # convert counts, expectation, and thermal_dist to app form for visibility\n",
    "    # app form of correct distribution is measuring amplitude a 100% of the time\n",
    "    app_counts = bitstring_to_a(counts, num_counting_qubits)\n",
    "    app_correct_dist = {a: 1.0}\n",
    "    app_thermal_dist = bitstring_to_a(thermal_dist, num_counting_qubits)\n",
    "\n",
    "    if verbose:\n",
    "        print(f\"For amplitude {a}, expected: {correct_dist} measured: {counts}\")\n",
    "        print(f\"   ... For amplitude {a} thermal_dist: {thermal_dist}\")\n",
    "        print(f\"For amplitude {a}, app expected: {app_correct_dist} measured: {app_counts}\")\n",
    "        print(f\"   ... For amplitude {a} app_thermal_dist: {app_thermal_dist}\")\n",
    "\n",
    "    # use polarization fidelity with rescaling\n",
    "    fidelity = metrics.polarization_fidelity(counts, correct_dist, thermal_dist)\n",
    "    #fidelity = metrics.polarization_fidelity(app_counts, app_correct_dist, app_thermal_dist)\n",
    "\n",
    "    hf_fidelity = metrics.hellinger_fidelity_with_expected(counts, correct_dist)\n",
    "\n",
    "    if verbose: print(f\"  ... fidelity: {fidelity}  hf_fidelity: {hf_fidelity}\")\n",
    "\n",
    "    return counts, fidelity"
   ]
  },
  {
   "cell_type": "code",
   "execution_count": 28,
   "id": "3d20ca6d-4541-47cf-b179-f7c4ea32a0d6",
   "metadata": {},
   "outputs": [],
   "source": [
    "def a_to_bitstring(a, num_counting_qubits):\n",
    "    m = num_counting_qubits\n",
    "\n",
    "    # solution 1\n",
    "    num1 = round(np.arcsin(np.sqrt(a)) / np.pi * 2**m)\n",
    "    num2 = round( (np.pi - np.arcsin(np.sqrt(a))) / np.pi * 2**m)\n",
    "    if num1 != num2 and num2 < 2**m and num1 < 2**m:\n",
    "        counts = {format(num1, \"0\"+str(m)+\"b\"): 0.5, format(num2, \"0\"+str(m)+\"b\"): 0.5}\n",
    "    else:\n",
    "        counts = {format(num1, \"0\"+str(m)+\"b\"): 1}\n",
    "    return counts\n",
    "\n",
    "def bitstring_to_a(counts, num_counting_qubits):\n",
    "    est_counts = {}\n",
    "    m = num_counting_qubits\n",
    "    precision = int(num_counting_qubits / (np.log2(10))) + 2\n",
    "    for key in counts.keys():\n",
    "        r = counts[key]\n",
    "        num = int(key,2) / (2**m)\n",
    "        a_est = round((np.sin(np.pi * num) )** 2, precision)\n",
    "        if a_est not in est_counts.keys():\n",
    "            est_counts[a_est] = 0\n",
    "        est_counts[a_est] += r\n",
    "    return est_counts\n",
    "\n",
    "def a_from_s_int(s_int, num_counting_qubits):\n",
    "    theta = s_int * np.pi / (2**num_counting_qubits)\n",
    "    precision = int(num_counting_qubits / (np.log2(10))) + 2\n",
    "    a = round(np.sin(theta)**2, precision)\n",
    "    return a"
   ]
  },
  {
   "cell_type": "code",
   "execution_count": 30,
   "id": "2281fae7-3323-46ca-aef8-5b8729467fd2",
   "metadata": {
    "scrolled": true
   },
   "outputs": [
    {
     "name": "stdout",
     "output_type": "stream",
     "text": [
      "Amplitude Estimation Benchmark Program - Qiskit\n",
      "************\n",
      "Executing [2] circuits with num_qubits = 3\n"
     ]
    },
    {
     "name": "stderr",
     "output_type": "stream",
     "text": [
      "C:\\Users\\User\\AppData\\Local\\Temp\\ipykernel_12768\\3841051348.py:79: DeprecationWarning: The `transpile` function will stop supporting inputs of type `BackendV1` ( fake_20q_v1 ) in the `backend` parameter in a future release no earlier than 2.0. `BackendV1` is deprecated and implementations should move to `BackendV2`.\n",
      "  tqc = transpile(qc2, Fake20QV1(),optimization_level=3)\n"
     ]
    },
    {
     "name": "stdout",
     "output_type": "stream",
     "text": [
      "{'0': 767, '1': 257}\n"
     ]
    },
    {
     "name": "stderr",
     "output_type": "stream",
     "text": [
      "C:\\Users\\User\\AppData\\Local\\Temp\\ipykernel_12768\\3841051348.py:79: DeprecationWarning: The `transpile` function will stop supporting inputs of type `BackendV1` ( fake_20q_v1 ) in the `backend` parameter in a future release no earlier than 2.0. `BackendV1` is deprecated and implementations should move to `BackendV2`.\n",
      "  tqc = transpile(qc2, Fake20QV1(),optimization_level=3)\n"
     ]
    },
    {
     "name": "stdout",
     "output_type": "stream",
     "text": [
      "{'1': 745, '0': 279}\n",
      "************\n",
      "Executing [3] circuits with num_qubits = 4\n"
     ]
    },
    {
     "name": "stderr",
     "output_type": "stream",
     "text": [
      "C:\\Users\\User\\AppData\\Local\\Temp\\ipykernel_12768\\3841051348.py:79: DeprecationWarning: The `transpile` function will stop supporting inputs of type `BackendV1` ( fake_20q_v1 ) in the `backend` parameter in a future release no earlier than 2.0. `BackendV1` is deprecated and implementations should move to `BackendV2`.\n",
      "  tqc = transpile(qc2, Fake20QV1(),optimization_level=3)\n"
     ]
    },
    {
     "name": "stdout",
     "output_type": "stream",
     "text": [
      "{'10': 422, '00': 206, '11': 190, '01': 206}\n"
     ]
    },
    {
     "name": "stderr",
     "output_type": "stream",
     "text": [
      "C:\\Users\\User\\AppData\\Local\\Temp\\ipykernel_12768\\3841051348.py:79: DeprecationWarning: The `transpile` function will stop supporting inputs of type `BackendV1` ( fake_20q_v1 ) in the `backend` parameter in a future release no earlier than 2.0. `BackendV1` is deprecated and implementations should move to `BackendV2`.\n",
      "  tqc = transpile(qc2, Fake20QV1(),optimization_level=3)\n"
     ]
    },
    {
     "name": "stdout",
     "output_type": "stream",
     "text": [
      "{'00': 240, '10': 233, '11': 257, '01': 294}\n"
     ]
    },
    {
     "name": "stderr",
     "output_type": "stream",
     "text": [
      "C:\\Users\\User\\AppData\\Local\\Temp\\ipykernel_12768\\3841051348.py:79: DeprecationWarning: The `transpile` function will stop supporting inputs of type `BackendV1` ( fake_20q_v1 ) in the `backend` parameter in a future release no earlier than 2.0. `BackendV1` is deprecated and implementations should move to `BackendV2`.\n",
      "  tqc = transpile(qc2, Fake20QV1(),optimization_level=3)\n"
     ]
    },
    {
     "name": "stdout",
     "output_type": "stream",
     "text": [
      "{'00': 269, '11': 261, '10': 222, '01': 272}\n",
      "************\n",
      "Executing [3] circuits with num_qubits = 5\n"
     ]
    },
    {
     "name": "stderr",
     "output_type": "stream",
     "text": [
      "C:\\Users\\User\\AppData\\Local\\Temp\\ipykernel_12768\\3841051348.py:79: DeprecationWarning: The `transpile` function will stop supporting inputs of type `BackendV1` ( fake_20q_v1 ) in the `backend` parameter in a future release no earlier than 2.0. `BackendV1` is deprecated and implementations should move to `BackendV2`.\n",
      "  tqc = transpile(qc2, Fake20QV1(),optimization_level=3)\n"
     ]
    },
    {
     "name": "stdout",
     "output_type": "stream",
     "text": [
      "{'100': 152, '101': 97, '001': 100, '000': 161, '011': 109, '010': 140, '111': 111, '110': 154}\n"
     ]
    },
    {
     "name": "stderr",
     "output_type": "stream",
     "text": [
      "C:\\Users\\User\\AppData\\Local\\Temp\\ipykernel_12768\\3841051348.py:79: DeprecationWarning: The `transpile` function will stop supporting inputs of type `BackendV1` ( fake_20q_v1 ) in the `backend` parameter in a future release no earlier than 2.0. `BackendV1` is deprecated and implementations should move to `BackendV2`.\n",
      "  tqc = transpile(qc2, Fake20QV1(),optimization_level=3)\n"
     ]
    },
    {
     "name": "stdout",
     "output_type": "stream",
     "text": [
      "{'010': 161, '111': 97, '001': 108, '101': 105, '110': 160, '000': 127, '100': 150, '011': 116}\n"
     ]
    },
    {
     "name": "stderr",
     "output_type": "stream",
     "text": [
      "C:\\Users\\User\\AppData\\Local\\Temp\\ipykernel_12768\\3841051348.py:79: DeprecationWarning: The `transpile` function will stop supporting inputs of type `BackendV1` ( fake_20q_v1 ) in the `backend` parameter in a future release no earlier than 2.0. `BackendV1` is deprecated and implementations should move to `BackendV2`.\n",
      "  tqc = transpile(qc2, Fake20QV1(),optimization_level=3)\n"
     ]
    },
    {
     "name": "stdout",
     "output_type": "stream",
     "text": [
      "{'101': 95, '100': 106, '010': 126, '110': 112, '001': 160, '000': 191, '111': 141, '011': 93}\n",
      "************\n",
      "Executing [3] circuits with num_qubits = 6\n"
     ]
    },
    {
     "name": "stderr",
     "output_type": "stream",
     "text": [
      "C:\\Users\\User\\AppData\\Local\\Temp\\ipykernel_12768\\3841051348.py:79: DeprecationWarning: The `transpile` function will stop supporting inputs of type `BackendV1` ( fake_20q_v1 ) in the `backend` parameter in a future release no earlier than 2.0. `BackendV1` is deprecated and implementations should move to `BackendV2`.\n",
      "  tqc = transpile(qc2, Fake20QV1(),optimization_level=3)\n"
     ]
    },
    {
     "name": "stdout",
     "output_type": "stream",
     "text": [
      "{'1011': 34, '0100': 65, '0011': 58, '0111': 52, '1111': 74, '1000': 63, '1010': 48, '1110': 68, '0000': 95, '0110': 56, '0001': 96, '1101': 55, '0010': 91, '1100': 48, '1001': 69, '0101': 52}\n"
     ]
    },
    {
     "name": "stderr",
     "output_type": "stream",
     "text": [
      "C:\\Users\\User\\AppData\\Local\\Temp\\ipykernel_12768\\3841051348.py:79: DeprecationWarning: The `transpile` function will stop supporting inputs of type `BackendV1` ( fake_20q_v1 ) in the `backend` parameter in a future release no earlier than 2.0. `BackendV1` is deprecated and implementations should move to `BackendV2`.\n",
      "  tqc = transpile(qc2, Fake20QV1(),optimization_level=3)\n"
     ]
    },
    {
     "name": "stdout",
     "output_type": "stream",
     "text": [
      "{'0011': 53, '0110': 98, '0001': 50, '1000': 100, '0111': 71, '1110': 42, '0100': 72, '0010': 60, '0000': 76, '1111': 44, '1001': 79, '0101': 59, '1011': 73, '1010': 50, '1100': 49, '1101': 48}\n"
     ]
    },
    {
     "name": "stderr",
     "output_type": "stream",
     "text": [
      "C:\\Users\\User\\AppData\\Local\\Temp\\ipykernel_12768\\3841051348.py:79: DeprecationWarning: The `transpile` function will stop supporting inputs of type `BackendV1` ( fake_20q_v1 ) in the `backend` parameter in a future release no earlier than 2.0. `BackendV1` is deprecated and implementations should move to `BackendV2`.\n",
      "  tqc = transpile(qc2, Fake20QV1(),optimization_level=3)\n"
     ]
    },
    {
     "name": "stdout",
     "output_type": "stream",
     "text": [
      "{'1000': 106, '1110': 50, '1001': 83, '0001': 67, '1101': 34, '0100': 59, '1011': 58, '0011': 63, '0010': 60, '0110': 69, '0000': 84, '1010': 70, '1100': 57, '0111': 65, '1111': 38, '0101': 61}\n",
      "************\n",
      "Executing [3] circuits with num_qubits = 7\n"
     ]
    },
    {
     "name": "stderr",
     "output_type": "stream",
     "text": [
      "C:\\Users\\User\\AppData\\Local\\Temp\\ipykernel_12768\\3841051348.py:79: DeprecationWarning: The `transpile` function will stop supporting inputs of type `BackendV1` ( fake_20q_v1 ) in the `backend` parameter in a future release no earlier than 2.0. `BackendV1` is deprecated and implementations should move to `BackendV2`.\n",
      "  tqc = transpile(qc2, Fake20QV1(),optimization_level=3)\n"
     ]
    },
    {
     "name": "stdout",
     "output_type": "stream",
     "text": [
      "{'10100': 40, '00111': 27, '01111': 37, '00110': 38, '10101': 28, '01100': 38, '11011': 30, '10000': 42, '10111': 28, '10011': 34, '11100': 25, '01010': 31, '00101': 27, '01000': 40, '00100': 42, '10110': 38, '00010': 33, '01001': 38, '10010': 38, '00001': 33, '00000': 37, '01101': 37, '11000': 30, '01011': 33, '10001': 33, '00011': 21, '11010': 27, '11110': 20, '11111': 20, '11001': 26, '01110': 31, '11101': 22}\n"
     ]
    },
    {
     "name": "stderr",
     "output_type": "stream",
     "text": [
      "C:\\Users\\User\\AppData\\Local\\Temp\\ipykernel_12768\\3841051348.py:79: DeprecationWarning: The `transpile` function will stop supporting inputs of type `BackendV1` ( fake_20q_v1 ) in the `backend` parameter in a future release no earlier than 2.0. `BackendV1` is deprecated and implementations should move to `BackendV2`.\n",
      "  tqc = transpile(qc2, Fake20QV1(),optimization_level=3)\n"
     ]
    },
    {
     "name": "stdout",
     "output_type": "stream",
     "text": [
      "{'01101': 36, '00110': 31, '01001': 38, '11000': 38, '01010': 35, '10110': 33, '00011': 27, '10100': 32, '10000': 44, '11010': 29, '00000': 46, '10111': 19, '11111': 23, '10010': 49, '11011': 27, '01110': 32, '00010': 43, '00101': 21, '10001': 34, '00001': 30, '11001': 27, '10101': 24, '11101': 22, '11100': 33, '01000': 42, '01011': 40, '00111': 29, '10011': 25, '11110': 22, '01111': 28, '01100': 40, '00100': 25}\n"
     ]
    },
    {
     "name": "stderr",
     "output_type": "stream",
     "text": [
      "C:\\Users\\User\\AppData\\Local\\Temp\\ipykernel_12768\\3841051348.py:79: DeprecationWarning: The `transpile` function will stop supporting inputs of type `BackendV1` ( fake_20q_v1 ) in the `backend` parameter in a future release no earlier than 2.0. `BackendV1` is deprecated and implementations should move to `BackendV2`.\n",
      "  tqc = transpile(qc2, Fake20QV1(),optimization_level=3)\n"
     ]
    },
    {
     "name": "stdout",
     "output_type": "stream",
     "text": [
      "{'11010': 36, '10011': 29, '01010': 38, '10101': 32, '01101': 34, '00100': 46, '10100': 39, '00111': 37, '01100': 32, '00101': 26, '10000': 40, '01111': 28, '01000': 32, '11101': 28, '11000': 33, '10110': 39, '00010': 34, '00110': 17, '11001': 26, '00001': 27, '01110': 35, '11111': 16, '10010': 35, '00011': 37, '10001': 42, '01001': 31, '01011': 36, '11100': 32, '10111': 21, '11011': 25, '00000': 38, '11110': 23}\n",
      "************\n",
      "Executing [3] circuits with num_qubits = 8\n"
     ]
    },
    {
     "name": "stderr",
     "output_type": "stream",
     "text": [
      "C:\\Users\\User\\AppData\\Local\\Temp\\ipykernel_12768\\3841051348.py:79: DeprecationWarning: The `transpile` function will stop supporting inputs of type `BackendV1` ( fake_20q_v1 ) in the `backend` parameter in a future release no earlier than 2.0. `BackendV1` is deprecated and implementations should move to `BackendV2`.\n",
      "  tqc = transpile(qc2, Fake20QV1(),optimization_level=3)\n"
     ]
    },
    {
     "name": "stdout",
     "output_type": "stream",
     "text": [
      "{'011001': 12, '110101': 5, '101011': 22, '000010': 24, '101111': 8, '110001': 20, '000110': 13, '000001': 16, '110110': 13, '101010': 25, '111111': 8, '001010': 16, '100001': 19, '011000': 25, '101001': 22, '011110': 9, '111110': 17, '001011': 12, '100010': 23, '111000': 23, '110100': 15, '000011': 15, '101100': 11, '000000': 19, '110111': 11, '001111': 10, '111010': 13, '100110': 19, '110010': 18, '101110': 12, '000101': 19, '010000': 23, '111001': 21, '100101': 18, '001110': 14, '111011': 16, '010111': 10, '010001': 18, '000100': 13, '110011': 13, '101101': 11, '000111': 9, '110000': 27, '001100': 11, '100011': 18, '111101': 14, '010100': 16, '011101': 12, '001000': 23, '011111': 11, '100100': 21, '001101': 16, '111100': 16, '001001': 22, '010010': 23, '011011': 12, '011010': 14, '100000': 30, '010110': 14, '101000': 17, '011100': 10, '010101': 14, '010011': 13, '100111': 10}\n"
     ]
    },
    {
     "name": "stderr",
     "output_type": "stream",
     "text": [
      "C:\\Users\\User\\AppData\\Local\\Temp\\ipykernel_12768\\3841051348.py:79: DeprecationWarning: The `transpile` function will stop supporting inputs of type `BackendV1` ( fake_20q_v1 ) in the `backend` parameter in a future release no earlier than 2.0. `BackendV1` is deprecated and implementations should move to `BackendV2`.\n",
      "  tqc = transpile(qc2, Fake20QV1(),optimization_level=3)\n"
     ]
    },
    {
     "name": "stdout",
     "output_type": "stream",
     "text": [
      "{'000010': 23, '110101': 19, '101011': 12, '111110': 16, '100010': 20, '001011': 9, '111111': 10, '001010': 11, '100001': 26, '000100': 23, '101101': 15, '110011': 8, '000111': 23, '110000': 21, '000000': 13, '110111': 12, '100110': 8, '111010': 12, '001111': 13, '111000': 17, '010011': 18, '001000': 17, '000110': 17, '110001': 18, '101111': 12, '101010': 15, '110110': 9, '000001': 23, '101110': 9, '110010': 20, '000101': 13, '001101': 12, '111100': 13, '100100': 24, '010010': 19, '001110': 21, '100101': 20, '111011': 15, '011000': 30, '100000': 30, '100011': 9, '001100': 12, '111101': 16, '011110': 16, '101001': 15, '000011': 16, '110100': 13, '101100': 15, '010111': 10, '011011': 13, '010101': 20, '011001': 24, '011111': 8, '001001': 8, '011101': 21, '101000': 20, '010110': 12, '010001': 16, '111001': 12, '011010': 21, '100111': 19, '010100': 14, '010000': 17, '011100': 11}\n"
     ]
    },
    {
     "name": "stderr",
     "output_type": "stream",
     "text": [
      "C:\\Users\\User\\AppData\\Local\\Temp\\ipykernel_12768\\3841051348.py:79: DeprecationWarning: The `transpile` function will stop supporting inputs of type `BackendV1` ( fake_20q_v1 ) in the `backend` parameter in a future release no earlier than 2.0. `BackendV1` is deprecated and implementations should move to `BackendV2`.\n",
      "  tqc = transpile(qc2, Fake20QV1(),optimization_level=3)\n"
     ]
    },
    {
     "name": "stdout",
     "output_type": "stream",
     "text": [
      "{'000011': 10, '101100': 19, '110100': 12, '011011': 21, '010011': 12, '011100': 19, '000110': 17, '101111': 11, '110001': 18, '111011': 7, '100101': 12, '001110': 19, '110010': 15, '000101': 16, '101110': 16, '011010': 15, '011001': 17, '001000': 16, '100000': 32, '100110': 16, '111010': 19, '001111': 13, '100111': 12, '001100': 16, '100011': 22, '111101': 15, '010100': 17, '110101': 15, '000010': 17, '101011': 13, '001001': 18, '111110': 13, '001011': 10, '100010': 12, '011000': 20, '010001': 13, '111111': 10, '100001': 22, '001010': 22, '000001': 12, '110110': 14, '101010': 18, '011111': 19, '101101': 14, '110011': 9, '000100': 9, '011101': 15, '011110': 15, '000111': 13, '110000': 25, '100100': 24, '111100': 14, '001101': 15, '111000': 20, '010111': 19, '110111': 11, '000000': 15, '101001': 19, '010000': 23, '111001': 16, '010010': 27, '010110': 15, '101000': 10, '010101': 14}\n",
      "Sample Circuit:\n",
      "        ┌───┐                         ┌──────┐┌──────┐┌──────┐┌──────┐ ░ »\n",
      "q236_0: ┤ H ├─────────────────────────┤0     ├┤0     ├┤0     ├┤0     ├─░─»\n",
      "        ├───┤         ┌──────┐┌──────┐│      ││      ││      ││      │ ░ »\n",
      "q236_1: ┤ H ├─────────┤0     ├┤0     ├┤      ├┤      ├┤      ├┤      ├─░─»\n",
      "        ├───┤ ┌──────┐│      ││      ││      ││      ││      ││      │ ░ »\n",
      "q236_2: ┤ H ├─┤0     ├┤      ├┤      ├┤  c_Q ├┤  c_Q ├┤  c_Q ├┤  c_Q ├─░─»\n",
      "        ├───┴┐│      ││  c_Q ││  c_Q ││      ││      ││      ││      │ ░ »\n",
      "q235_0: ┤0   ├┤1 c_Q ├┤1     ├┤1     ├┤1     ├┤1     ├┤1     ├┤1     ├─░─»\n",
      "        │  A ││      ││      ││      ││      ││      ││      ││      │ ░ »\n",
      "q235_1: ┤1   ├┤2     ├┤2     ├┤2     ├┤2     ├┤2     ├┤2     ├┤2     ├─░─»\n",
      "        └────┘└──────┘└──────┘└──────┘└──────┘└──────┘└──────┘└──────┘ ░ »\n",
      "  c9: 3/═════════════════════════════════════════════════════════════════»\n",
      "                                                                         »\n",
      "«        ┌──────────┐ ░ ┌─┐      \n",
      "«q236_0: ┤0         ├─░─┤M├──────\n",
      "«        │          │ ░ └╥┘┌─┐   \n",
      "«q236_1: ┤1 inv_qft ├─░──╫─┤M├───\n",
      "«        │          │ ░  ║ └╥┘┌─┐\n",
      "«q236_2: ┤2         ├─░──╫──╫─┤M├\n",
      "«        └──────────┘ ░  ║  ║ └╥┘\n",
      "«q235_0: ─────────────░──╫──╫──╫─\n",
      "«                     ░  ║  ║  ║ \n",
      "«q235_1: ─────────────░──╫──╫──╫─\n",
      "«                     ░  ║  ║  ║ \n",
      "«  c9: 3/════════════════╩══╩══╩═\n",
      "«                        0  1  2 \n",
      "\n",
      "Controlled Quantum Operator 'cQ' =\n",
      "             \n",
      "q1121: ──■───\n",
      "       ┌─┴──┐\n",
      "  q_0: ┤0   ├\n",
      "       │  Q │\n",
      "  q_1: ┤1   ├\n",
      "       └────┘\n",
      "\n",
      "Quantum Operator 'Q' =\n",
      "                    ┌───────┐┌───┐          ┌───┐     ┌────┐\n",
      "q_0: ───────────────┤0      ├┤ X ├───────■──┤ X ├─────┤0   ├\n",
      "     ┌───┐┌───┐┌───┐│  A_dg │├───┤┌───┐┌─┴─┐├───┤┌───┐│  A │\n",
      "q_1: ┤ X ├┤ Z ├┤ X ├┤1      ├┤ X ├┤ H ├┤ X ├┤ H ├┤ X ├┤1   ├\n",
      "     └───┘└───┘└───┘└───────┘└───┘└───┘└───┘└───┘└───┘└────┘\n",
      "\n",
      "Amplitude Generator 'A' =\n",
      "                             ┌───┐\n",
      "q_0: ────────────────────────┤ X ├\n",
      "     ┌────────────┐┌───┐┌───┐└─┬─┘\n",
      "q_1: ┤ Ry(2.0624) ├┤ X ├┤ X ├──■──\n",
      "     └────────────┘└───┘└───┘     \n",
      "\n",
      "Inverse QFT Circuit =\n",
      "        ┌───┐                         ░                   ░       ░ \n",
      "q243_0: ┤ H ├─────■───────────■───────░───────────────────░───────░─\n",
      "        └───┘┌────┴─────┐     │       ░ ┌───┐             ░       ░ \n",
      "q243_1: ─────┤ Rz(-π/2) ├─────┼───────░─┤ H ├─────■───────░───────░─\n",
      "             └──────────┘┌────┴─────┐ ░ └───┘┌────┴─────┐ ░ ┌───┐ ░ \n",
      "q243_2: ─────────────────┤ Rz(-π/4) ├─░──────┤ Rz(-π/2) ├─░─┤ H ├─░─\n",
      "                         └──────────┘ ░      └──────────┘ ░ └───┘ ░ \n"
     ]
    }
   ],
   "source": [
    "################ Benchmark Loop\n",
    "\n",
    "# Because circuit size grows significantly with num_qubits\n",
    "# limit the max_qubits here ...\n",
    "MAX_QUBITS=8\n",
    "\n",
    "# Execute program with default parameters\n",
    "def run(min_qubits=3, max_qubits=8, max_circuits=3, num_shots=100,\n",
    "        num_state_qubits=1, # default, not exposed to users\n",
    "        backend_id='qasm_simulator', provider_backend=None,\n",
    "        hub=\"ibm-q\", group=\"open\", project=\"main\", exec_options=None):\n",
    "\n",
    "    print(\"Amplitude Estimation Benchmark Program - Qiskit\")\n",
    "\n",
    "    # Clamp the maximum number of qubits\n",
    "    if max_qubits > MAX_QUBITS:\n",
    "        print(f\"INFO: Amplitude Estimation benchmark is limited to a maximum of {MAX_QUBITS} qubits.\")\n",
    "        max_qubits = MAX_QUBITS\n",
    "\n",
    "    # validate parameters (smallest circuit is 3 qubits)\n",
    "    num_state_qubits = max(1, num_state_qubits)\n",
    "    if max_qubits < num_state_qubits + 2:\n",
    "        print(f\"ERROR: AE Benchmark needs at least {num_state_qubits + 2} qubits to run\")\n",
    "        return\n",
    "    min_qubits = max(max(3, min_qubits), num_state_qubits + 2)\n",
    "    #print(f\"min, max, state = {min_qubits} {max_qubits} {num_state_qubits}\")\n",
    "\n",
    "    # Initialize metrics module\n",
    "    #metrics.init_metrics()\n",
    "\n",
    "    # Define custom result handler\n",
    "    def execution_handler(qc, result, num_qubits, s_int, num_shots):\n",
    "\n",
    "        # determine fidelity of result set\n",
    "        num_counting_qubits = int(num_qubits) - num_state_qubits - 1\n",
    "        counts, fidelity = analyze_and_print_result(qc, result, num_counting_qubits, int(s_int), num_shots)\n",
    "        metrics.store_metric(num_qubits, s_int, 'fidelity', fidelity)\n",
    "\n",
    "    # Initialize execution module using the execution result handler above and specified backend_id\n",
    "    #ex.init_execution(execution_handler)\n",
    "    #ex.set_execution_target(backend_id, provider_backend=provider_backend,\n",
    "    #        hub=hub, group=group, project=project, exec_options=exec_options)\n",
    "\n",
    "    # Execute Benchmark Program N times for multiple circuit sizes\n",
    "    # Accumulate metrics asynchronously as circuits complete\n",
    "    for num_qubits in range(min_qubits, max_qubits + 1):\n",
    "\n",
    "        # reset random seed\n",
    "        np.random.seed(0)\n",
    "\n",
    "        # as circuit width grows, the number of counting qubits is increased\n",
    "        num_counting_qubits = num_qubits - num_state_qubits - 1\n",
    "\n",
    "        # determine number of circuits to execute for this group\n",
    "        num_circuits = min(2 ** (num_counting_qubits), max_circuits)\n",
    "\n",
    "        print(f\"************\\nExecuting [{num_circuits}] circuits with num_qubits = {num_qubits}\")\n",
    "        if verbose:\n",
    "            print(f\"              with num_state_qubits = {num_state_qubits}  num_counting_qubits = {num_counting_qubits}\")\n",
    "\n",
    "        # determine range of secret strings to loop over\n",
    "        if 2**(num_counting_qubits) <= max_circuits:\n",
    "            s_range = list(range(num_circuits))\n",
    "        else:\n",
    "            s_range = np.random.choice(2**(num_counting_qubits), num_circuits, False)\n",
    "\n",
    "        # loop over limited # of secret strings for this\n",
    "        for s_int in s_range:\n",
    "            # create the circuit for given qubit size and secret string, store time metric\n",
    "            ts = time.time()\n",
    "\n",
    "            a_ = a_from_s_int(s_int, num_counting_qubits)\n",
    "\n",
    "            qc = AmplitudeEstimation(num_state_qubits, num_counting_qubits, a_)\n",
    "            #metrics.store_metric(num_qubits, s_int, 'create_time', time.time() - ts)\n",
    "\n",
    "            # collapse the 3 sub-circuit levels used in this benchmark (for qiskit)\n",
    "            qc2 = qc.decompose().decompose().decompose()\n",
    "            tqc = transpile(qc2, Fake20QV1(),optimization_level=3)\n",
    "            job = Fake20QV1().run(tqc)\n",
    "            counts = job.result().get_counts(tqc)\n",
    "            print(counts)\n",
    "\n",
    "            # submit circuit for execution on target (simulator, cloud simulator, or hardware)\n",
    "            #ex.submit_circuit(qc2, num_qubits, s_int, num_shots)\n",
    "\n",
    "        # Wait for some active circuits to complete; report metrics when groups complete\n",
    "        #ex.throttle_execution(metrics.finalize_group)\n",
    "\n",
    "    # Wait for all active circuits to complete; report metrics when groups complete\n",
    "    #ex.finalize_execution(metrics.finalize_group)\n",
    "\n",
    "    # print a sample circuit\n",
    "    print(\"Sample Circuit:\"); print(QC_ if QC_ != None else \"  ... too large!\")\n",
    "    print(\"\\nControlled Quantum Operator 'cQ' =\"); print(cQ_ if cQ_ != None else \" ... too large!\")\n",
    "    print(\"\\nQuantum Operator 'Q' =\"); print(Q_ if Q_ != None else \" ... too large!\")\n",
    "    print(\"\\nAmplitude Generator 'A' =\"); print(A_ if A_ != None else \" ... too large!\")\n",
    "    print(\"\\nInverse QFT Circuit =\"); print(QFTI_ if QC_ != None else \"  ... too large!\")\n",
    "\n",
    "    # Plot metrics for all circuit sizes\n",
    "    #metrics.plot_metrics(\"Benchmark Results - Amplitude Estimation - Qiskit\")\n",
    "\n",
    "\n",
    "# if main, execute method\n",
    "if __name__ == '__main__': run()"
   ]
  }
 ],
 "metadata": {
  "kernelspec": {
   "display_name": "qss",
   "language": "python",
   "name": "qss"
  },
  "language_info": {
   "codemirror_mode": {
    "name": "ipython",
    "version": 3
   },
   "file_extension": ".py",
   "mimetype": "text/x-python",
   "name": "python",
   "nbconvert_exporter": "python",
   "pygments_lexer": "ipython3",
   "version": "3.9.20"
  }
 },
 "nbformat": 4,
 "nbformat_minor": 5
}
